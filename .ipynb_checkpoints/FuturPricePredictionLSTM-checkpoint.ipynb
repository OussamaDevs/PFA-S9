{
 "cells": [
  {
   "cell_type": "code",
   "execution_count": 1,
   "id": "a6305a82-d1b6-48b7-b04e-6074cb383976",
   "metadata": {},
   "outputs": [],
   "source": [
    "import numpy as np\n",
    "from sklearn.preprocessing import MinMaxScaler\n",
    "from tensorflow.keras.models import Sequential\n",
    "from tensorflow.keras.layers import LSTM, Dense, Dropout\n",
    "from sklearn.model_selection import train_test_split\n"
   ]
  },
  {
   "cell_type": "code",
   "execution_count": 2,
   "id": "bad2b943-f523-4e41-bdae-e7130835f347",
   "metadata": {},
   "outputs": [],
   "source": [
    "import pandas as pd\n",
    "file_path = \"cleaned_coin_Bitcoin.csv\" \n",
    "df = pd.read_csv(file_path)"
   ]
  },
  {
   "cell_type": "code",
   "execution_count": 3,
   "id": "338d434d-1b17-49d0-ae59-53df293884e7",
   "metadata": {},
   "outputs": [],
   "source": [
    "# 1. Normalize the data for LSTM (scaling it between 0 and 1)\n",
    "scaler = MinMaxScaler(feature_range=(0, 1))\n",
    "scaled_data = scaler.fit_transform(df[['Close']].values)"
   ]
  },
  {
   "cell_type": "code",
   "execution_count": 4,
   "id": "4a2ad31e-fcf6-407a-86b9-4a51c82d6339",
   "metadata": {},
   "outputs": [],
   "source": [
    "# 2. Function to create dataset for LSTM with a given time_step\n",
    "def create_dataset(data, time_step=60):\n",
    "    X, y = [], []\n",
    "    for i in range(len(data) - time_step - 1):\n",
    "        X.append(data[i:(i + time_step), 0])  # Features (previous 'time_step' values)\n",
    "        y.append(data[i + time_step, 0])  # Target (next value, i.e., the future close price)\n",
    "    return np.array(X), np.array(y)\n"
   ]
  },
  {
   "cell_type": "code",
   "execution_count": 5,
   "id": "0f543573-1434-4135-bb79-fa53e88ae901",
   "metadata": {},
   "outputs": [],
   "source": [
    "# 3. Create dataset using 60 time steps (past 60 days to predict the next day's closing price)\n",
    "time_step = 60\n",
    "X, y = create_dataset(scaled_data, time_step)\n"
   ]
  },
  {
   "cell_type": "code",
   "execution_count": 6,
   "id": "8dc22178-ae1a-48b3-bcc8-94f0be040b4b",
   "metadata": {},
   "outputs": [],
   "source": [
    "# 4. Reshape X to be 3D (samples, time_steps, features) as required by LSTM\n",
    "X = X.reshape(X.shape[0], X.shape[1], 1)  # Add 1 for the feature dimension\n"
   ]
  },
  {
   "cell_type": "code",
   "execution_count": 7,
   "id": "d075ec2d-7209-4d9f-9f36-3a3ef2b857a6",
   "metadata": {},
   "outputs": [
    {
     "name": "stdout",
     "output_type": "stream",
     "text": [
      "Training data shape: X_train=(2184, 60, 1), y_train=(2184,)\n",
      "Testing data shape: X_test=(547, 60, 1), y_test=(547,)\n"
     ]
    }
   ],
   "source": [
    "# 5. Split data into training and testing sets (80% training, 20% testing)\n",
    "train_size = int(len(X) * 0.8)\n",
    "X_train, X_test = X[:train_size], X[train_size:]\n",
    "y_train, y_test = y[:train_size], y[train_size:]\n",
    "\n",
    "print(f\"Training data shape: X_train={X_train.shape}, y_train={y_train.shape}\")\n",
    "print(f\"Testing data shape: X_test={X_test.shape}, y_test={y_test.shape}\")\n"
   ]
  },
  {
   "cell_type": "code",
   "execution_count": 8,
   "id": "ff93e1d1-f2f9-4a5e-b082-bdc4a8c76633",
   "metadata": {},
   "outputs": [],
   "source": [
    "# 6. Build the LSTM model\n",
    "model = Sequential()"
   ]
  },
  {
   "cell_type": "code",
   "execution_count": 9,
   "id": "fa458439-349d-4848-a228-6e9b8a270a1c",
   "metadata": {},
   "outputs": [],
   "source": [
    "# Add LSTM layers\n",
    "from tensorflow.keras.layers import Input\n",
    "\n",
    "model.add(Input(shape=(X_train.shape[1], 1))) \n",
    "# Add LSTM layers\n",
    "model.add(LSTM(units=50, return_sequences=True))  # First LSTM layer\n",
    "model.add(Dropout(0.2))  # Dropout for regularization for no overfitting\n",
    "model.add(LSTM(units=50, return_sequences=False))  # Second LSTM layer (final one)\n",
    "model.add(Dropout(0.2))  # Dropout for regularization\n",
    "\n",
    "# Output layer\n",
    "model.add(Dense(units=1))  # Predict the next 'Close' value\n",
    "\n"
   ]
  },
  {
   "cell_type": "code",
   "execution_count": 10,
   "id": "69348137-7938-44c7-8e2d-8be3685b2259",
   "metadata": {},
   "outputs": [],
   "source": [
    "# Compile the model\n",
    "model.compile(optimizer='adam', loss='mean_squared_error')"
   ]
  },
  {
   "cell_type": "code",
   "execution_count": 11,
   "id": "6f7735f9-fe43-4346-b6ae-3bc79a16cd6e",
   "metadata": {},
   "outputs": [
    {
     "name": "stdout",
     "output_type": "stream",
     "text": [
      "Epoch 1/10\n",
      "\u001b[1m69/69\u001b[0m \u001b[32m━━━━━━━━━━━━━━━━━━━━\u001b[0m\u001b[37m\u001b[0m \u001b[1m6s\u001b[0m 45ms/step - loss: 0.0017 - val_loss: 0.0029\n",
      "Epoch 2/10\n",
      "\u001b[1m69/69\u001b[0m \u001b[32m━━━━━━━━━━━━━━━━━━━━\u001b[0m\u001b[37m\u001b[0m \u001b[1m5s\u001b[0m 48ms/step - loss: 1.4412e-04 - val_loss: 0.0022\n",
      "Epoch 3/10\n",
      "\u001b[1m69/69\u001b[0m \u001b[32m━━━━━━━━━━━━━━━━━━━━\u001b[0m\u001b[37m\u001b[0m \u001b[1m5s\u001b[0m 48ms/step - loss: 1.4616e-04 - val_loss: 0.0020\n",
      "Epoch 4/10\n",
      "\u001b[1m69/69\u001b[0m \u001b[32m━━━━━━━━━━━━━━━━━━━━\u001b[0m\u001b[37m\u001b[0m \u001b[1m3s\u001b[0m 47ms/step - loss: 1.4285e-04 - val_loss: 0.0022\n",
      "Epoch 5/10\n",
      "\u001b[1m69/69\u001b[0m \u001b[32m━━━━━━━━━━━━━━━━━━━━\u001b[0m\u001b[37m\u001b[0m \u001b[1m5s\u001b[0m 41ms/step - loss: 1.0872e-04 - val_loss: 0.0035\n",
      "Epoch 6/10\n",
      "\u001b[1m69/69\u001b[0m \u001b[32m━━━━━━━━━━━━━━━━━━━━\u001b[0m\u001b[37m\u001b[0m \u001b[1m6s\u001b[0m 47ms/step - loss: 1.2101e-04 - val_loss: 0.0033\n",
      "Epoch 7/10\n",
      "\u001b[1m69/69\u001b[0m \u001b[32m━━━━━━━━━━━━━━━━━━━━\u001b[0m\u001b[37m\u001b[0m \u001b[1m5s\u001b[0m 46ms/step - loss: 1.0628e-04 - val_loss: 0.0064\n",
      "Epoch 8/10\n",
      "\u001b[1m69/69\u001b[0m \u001b[32m━━━━━━━━━━━━━━━━━━━━\u001b[0m\u001b[37m\u001b[0m \u001b[1m5s\u001b[0m 39ms/step - loss: 1.2440e-04 - val_loss: 0.0031\n",
      "Epoch 9/10\n",
      "\u001b[1m69/69\u001b[0m \u001b[32m━━━━━━━━━━━━━━━━━━━━\u001b[0m\u001b[37m\u001b[0m \u001b[1m3s\u001b[0m 40ms/step - loss: 1.0660e-04 - val_loss: 0.0066\n",
      "Epoch 10/10\n",
      "\u001b[1m69/69\u001b[0m \u001b[32m━━━━━━━━━━━━━━━━━━━━\u001b[0m\u001b[37m\u001b[0m \u001b[1m5s\u001b[0m 43ms/step - loss: 9.5389e-05 - val_loss: 0.0053\n"
     ]
    },
    {
     "data": {
      "text/plain": [
       "<keras.src.callbacks.history.History at 0x233392d67b0>"
      ]
     },
     "execution_count": 11,
     "metadata": {},
     "output_type": "execute_result"
    }
   ],
   "source": [
    "# Train the model\n",
    "model.fit(X_train, y_train, epochs=10, batch_size=32, validation_data=(X_test, y_test))"
   ]
  },
  {
   "cell_type": "code",
   "execution_count": 12,
   "id": "b472d953-4ef5-4160-8069-a54ddfb739d6",
   "metadata": {},
   "outputs": [
    {
     "name": "stdout",
     "output_type": "stream",
     "text": [
      "\u001b[1m18/18\u001b[0m \u001b[32m━━━━━━━━━━━━━━━━━━━━\u001b[0m\u001b[37m\u001b[0m \u001b[1m1s\u001b[0m 28ms/step\n"
     ]
    }
   ],
   "source": [
    "# Make predictions on the test set\n",
    "y_pred = model.predict(X_test)"
   ]
  },
  {
   "cell_type": "code",
   "execution_count": 13,
   "id": "e893b910-5dce-43cc-ac78-9e8d57b484f5",
   "metadata": {},
   "outputs": [
    {
     "name": "stdout",
     "output_type": "stream",
     "text": [
      "Mean Absolute Error (MAE): 0.04285925088928352\n",
      "Mean Squared Error (MSE): 0.005304776081839822\n",
      "Root Mean Squared Error (RMSE): 0.0728338937709623\n",
      "R-squared (R²): 0.9319172747781679\n"
     ]
    }
   ],
   "source": [
    "from sklearn.metrics import mean_absolute_error, mean_squared_error, r2_score\n",
    "import numpy as np\n",
    "\n",
    "# Mean Absolute Error (MAE)\n",
    "mae = mean_absolute_error(y_test, y_pred)\n",
    "\n",
    "# Mean Squared Error (MSE)\n",
    "mse = mean_squared_error(y_test, y_pred)\n",
    "\n",
    "# Root Mean Squared Error (RMSE)\n",
    "rmse = np.sqrt(mse)\n",
    "\n",
    "# R-squared (R²)\n",
    "r2 = r2_score(y_test, y_pred)\n",
    "\n",
    "# Print the metrics\n",
    "print(f\"Mean Absolute Error (MAE): {mae}\")\n",
    "print(f\"Mean Squared Error (MSE): {mse}\")\n",
    "print(f\"Root Mean Squared Error (RMSE): {rmse}\")\n",
    "print(f\"R-squared (R²): {r2}\")\n"
   ]
  },
  {
   "cell_type": "code",
   "execution_count": 15,
   "id": "fb792cea-72ba-43e2-b90c-f7c2f28121ea",
   "metadata": {},
   "outputs": [
    {
     "name": "stdout",
     "output_type": "stream",
     "text": [
      "Model saved in the native Keras format\n"
     ]
    }
   ],
   "source": [
    "# Save the model in the native Keras format\n",
    "model.save('bitcoin_lstm_model.keras')\n",
    "\n",
    "print(\"Model saved in the native Keras format\")\n"
   ]
  },
  {
   "cell_type": "code",
   "execution_count": null,
   "id": "d3d46ce6-2769-4ea4-985c-64ea74853794",
   "metadata": {},
   "outputs": [],
   "source": []
  }
 ],
 "metadata": {
  "kernelspec": {
   "display_name": "Python 3 (ipykernel)",
   "language": "python",
   "name": "python3"
  },
  "language_info": {
   "codemirror_mode": {
    "name": "ipython",
    "version": 3
   },
   "file_extension": ".py",
   "mimetype": "text/x-python",
   "name": "python",
   "nbconvert_exporter": "python",
   "pygments_lexer": "ipython3",
   "version": "3.12.8"
  }
 },
 "nbformat": 4,
 "nbformat_minor": 5
}
