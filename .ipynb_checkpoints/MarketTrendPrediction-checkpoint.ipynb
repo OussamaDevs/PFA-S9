{
 "cells": [
  {
   "cell_type": "code",
   "execution_count": 1,
   "id": "e269f8ef-7f4c-4adf-8c83-cfeab1beaecf",
   "metadata": {},
   "outputs": [],
   "source": [
    "import numpy as np\n",
    "from sklearn.preprocessing import MinMaxScaler\n",
    "from tensorflow.keras.models import Sequential\n",
    "from tensorflow.keras.layers import LSTM, Dense, Dropout, Input\n",
    "from sklearn.model_selection import train_test_split\n",
    "import pandas as pd\n",
    "from sklearn.metrics import mean_absolute_error, mean_squared_error, r2_score"
   ]
  },
  {
   "cell_type": "code",
   "execution_count": 2,
   "id": "d0448df6-c03a-43c7-9d0e-311a1a510a2b",
   "metadata": {},
   "outputs": [],
   "source": [
    "file_path = \"cleaned_coin_Bitcoin.csv\" \n",
    "df = pd.read_csv(file_path)"
   ]
  },
  {
   "cell_type": "code",
   "execution_count": 3,
   "id": "7bb7cb25-08b9-4be2-9b07-33ea1f62a2c7",
   "metadata": {},
   "outputs": [],
   "source": [
    "df['Daily Return'] = df['Close'].pct_change() * 100\n",
    "\n",
    "# Create a new column for Market Trend (Up, Down, Neutral)\n",
    "df['Market Trend'] = df['Daily Return'].apply(lambda x: 'Up' if x > 0 else ('Down' if x < 0 else 'Neutral'))\n"
   ]
  },
  {
   "cell_type": "code",
   "execution_count": 4,
   "id": "d9188c44-8b45-4d08-989d-c39c17f4b68a",
   "metadata": {},
   "outputs": [],
   "source": [
    "# Encode the Market Trend labels as integers (Up = 0, Down = 1, Neutral = 2)\n",
    "from sklearn.preprocessing import LabelEncoder\n",
    "le = LabelEncoder()\n",
    "df['Market Trend'] = le.fit_transform(df['Market Trend'])\n",
    "\n",
    "# Drop rows with missing values after creating 'Daily Return'\n",
    "df = df.dropna()"
   ]
  },
  {
   "cell_type": "code",
   "execution_count": 5,
   "id": "05be1073-7e65-47cb-9ee4-e3aa3b0f24bf",
   "metadata": {},
   "outputs": [
    {
     "data": {
      "text/html": [
       "<div>\n",
       "<style scoped>\n",
       "    .dataframe tbody tr th:only-of-type {\n",
       "        vertical-align: middle;\n",
       "    }\n",
       "\n",
       "    .dataframe tbody tr th {\n",
       "        vertical-align: top;\n",
       "    }\n",
       "\n",
       "    .dataframe thead th {\n",
       "        text-align: right;\n",
       "    }\n",
       "</style>\n",
       "<table border=\"1\" class=\"dataframe\">\n",
       "  <thead>\n",
       "    <tr style=\"text-align: right;\">\n",
       "      <th></th>\n",
       "      <th>Date</th>\n",
       "      <th>High</th>\n",
       "      <th>Low</th>\n",
       "      <th>Open</th>\n",
       "      <th>Close</th>\n",
       "      <th>Volume</th>\n",
       "      <th>Marketcap</th>\n",
       "      <th>Daily Return</th>\n",
       "      <th>50-Day MA</th>\n",
       "      <th>200-Day MA</th>\n",
       "      <th>Price Diff</th>\n",
       "      <th>Volatility</th>\n",
       "      <th>Open-Close Diff</th>\n",
       "      <th>High-Low Range</th>\n",
       "      <th>Market Trend</th>\n",
       "    </tr>\n",
       "  </thead>\n",
       "  <tbody>\n",
       "    <tr>\n",
       "      <th>1</th>\n",
       "      <td>2013-11-15 23:59:59</td>\n",
       "      <td>437.890015</td>\n",
       "      <td>396.109985</td>\n",
       "      <td>419.410004</td>\n",
       "      <td>0.003788</td>\n",
       "      <td>0.0</td>\n",
       "      <td>5.013561e+09</td>\n",
       "      <td>-0.929379</td>\n",
       "      <td>0.000102</td>\n",
       "      <td>0.000031</td>\n",
       "      <td>0.003168</td>\n",
       "      <td>0.382007</td>\n",
       "      <td>419.406216</td>\n",
       "      <td>41.780029</td>\n",
       "      <td>0</td>\n",
       "    </tr>\n",
       "    <tr>\n",
       "      <th>2</th>\n",
       "      <td>2013-11-16 23:59:59</td>\n",
       "      <td>450.260010</td>\n",
       "      <td>415.570007</td>\n",
       "      <td>417.279999</td>\n",
       "      <td>0.004139</td>\n",
       "      <td>0.0</td>\n",
       "      <td>5.282849e+09</td>\n",
       "      <td>9.285081</td>\n",
       "      <td>0.000209</td>\n",
       "      <td>0.000065</td>\n",
       "      <td>0.002617</td>\n",
       "      <td>0.382844</td>\n",
       "      <td>417.275860</td>\n",
       "      <td>34.690002</td>\n",
       "      <td>2</td>\n",
       "    </tr>\n",
       "    <tr>\n",
       "      <th>3</th>\n",
       "      <td>2013-11-17 23:59:59</td>\n",
       "      <td>500.579987</td>\n",
       "      <td>440.239990</td>\n",
       "      <td>440.959991</td>\n",
       "      <td>0.004959</td>\n",
       "      <td>0.0</td>\n",
       "      <td>5.907842e+09</td>\n",
       "      <td>19.796497</td>\n",
       "      <td>0.000335</td>\n",
       "      <td>0.000108</td>\n",
       "      <td>0.004611</td>\n",
       "      <td>0.395968</td>\n",
       "      <td>440.955033</td>\n",
       "      <td>60.339996</td>\n",
       "      <td>2</td>\n",
       "    </tr>\n",
       "    <tr>\n",
       "      <th>4</th>\n",
       "      <td>2013-11-18 23:59:59</td>\n",
       "      <td>703.780029</td>\n",
       "      <td>494.940002</td>\n",
       "      <td>496.579987</td>\n",
       "      <td>0.008298</td>\n",
       "      <td>0.0</td>\n",
       "      <td>8.449070e+09</td>\n",
       "      <td>67.339269</td>\n",
       "      <td>0.000534</td>\n",
       "      <td>0.000176</td>\n",
       "      <td>0.016155</td>\n",
       "      <td>0.606395</td>\n",
       "      <td>496.571689</td>\n",
       "      <td>208.840027</td>\n",
       "      <td>2</td>\n",
       "    </tr>\n",
       "    <tr>\n",
       "      <th>5</th>\n",
       "      <td>2013-11-19 23:59:59</td>\n",
       "      <td>806.109985</td>\n",
       "      <td>456.390015</td>\n",
       "      <td>712.760010</td>\n",
       "      <td>0.006419</td>\n",
       "      <td>0.0</td>\n",
       "      <td>7.022949e+09</td>\n",
       "      <td>-22.637440</td>\n",
       "      <td>0.000692</td>\n",
       "      <td>0.000231</td>\n",
       "      <td>0.027107</td>\n",
       "      <td>0.646978</td>\n",
       "      <td>712.753590</td>\n",
       "      <td>349.719971</td>\n",
       "      <td>0</td>\n",
       "    </tr>\n",
       "  </tbody>\n",
       "</table>\n",
       "</div>"
      ],
      "text/plain": [
       "                  Date        High         Low        Open     Close  Volume  \\\n",
       "1  2013-11-15 23:59:59  437.890015  396.109985  419.410004  0.003788     0.0   \n",
       "2  2013-11-16 23:59:59  450.260010  415.570007  417.279999  0.004139     0.0   \n",
       "3  2013-11-17 23:59:59  500.579987  440.239990  440.959991  0.004959     0.0   \n",
       "4  2013-11-18 23:59:59  703.780029  494.940002  496.579987  0.008298     0.0   \n",
       "5  2013-11-19 23:59:59  806.109985  456.390015  712.760010  0.006419     0.0   \n",
       "\n",
       "      Marketcap  Daily Return  50-Day MA  200-Day MA  Price Diff  Volatility  \\\n",
       "1  5.013561e+09     -0.929379   0.000102    0.000031    0.003168    0.382007   \n",
       "2  5.282849e+09      9.285081   0.000209    0.000065    0.002617    0.382844   \n",
       "3  5.907842e+09     19.796497   0.000335    0.000108    0.004611    0.395968   \n",
       "4  8.449070e+09     67.339269   0.000534    0.000176    0.016155    0.606395   \n",
       "5  7.022949e+09    -22.637440   0.000692    0.000231    0.027107    0.646978   \n",
       "\n",
       "   Open-Close Diff  High-Low Range  Market Trend  \n",
       "1       419.406216       41.780029             0  \n",
       "2       417.275860       34.690002             2  \n",
       "3       440.955033       60.339996             2  \n",
       "4       496.571689      208.840027             2  \n",
       "5       712.753590      349.719971             0  "
      ]
     },
     "execution_count": 5,
     "metadata": {},
     "output_type": "execute_result"
    }
   ],
   "source": [
    "df.head()\n"
   ]
  },
  {
   "cell_type": "code",
   "execution_count": 6,
   "id": "e1e79cbd-c62d-4ba9-959e-00df37792f06",
   "metadata": {},
   "outputs": [],
   "source": [
    "# Define features (X) and target (y) for Market Trend prediction\n",
    "X_trend = df[['Open', 'High', 'Low', 'Close', 'Volume', 'Marketcap', '50-Day MA', '200-Day MA', 'Price Diff', 'Volatility', 'Daily Return', 'Open-Close Diff', 'High-Low Range']]\n",
    "y_trend = df['Market Trend']  # Target variable is Market Trend (Up, Down, Neutral)\n"
   ]
  },
  {
   "cell_type": "code",
   "execution_count": 7,
   "id": "1991ca11-2914-4de4-ac5e-3739194fb8c3",
   "metadata": {},
   "outputs": [
    {
     "name": "stdout",
     "output_type": "stream",
     "text": [
      "Check for NaN values in X_train_trend: Open               0\n",
      "High               0\n",
      "Low                0\n",
      "Close              0\n",
      "Volume             0\n",
      "Marketcap          0\n",
      "50-Day MA          0\n",
      "200-Day MA         0\n",
      "Price Diff         0\n",
      "Volatility         0\n",
      "Daily Return       0\n",
      "Open-Close Diff    0\n",
      "High-Low Range     0\n",
      "dtype: int64\n",
      "Check for infinity values in X_train_trend: Open               0\n",
      "High               0\n",
      "Low                0\n",
      "Close              0\n",
      "Volume             0\n",
      "Marketcap          0\n",
      "50-Day MA          0\n",
      "200-Day MA         0\n",
      "Price Diff         0\n",
      "Volatility         0\n",
      "Daily Return       1\n",
      "Open-Close Diff    0\n",
      "High-Low Range     0\n",
      "dtype: int64\n"
     ]
    }
   ],
   "source": [
    "# Split the data into training and testing sets (80% train, 20% test)\n",
    "X_train_trend, X_test_trend, y_train_trend, y_test_trend = train_test_split(X_trend, y_trend, test_size=0.2, shuffle=False)\n",
    "\n",
    "# Check for NaN values\n",
    "print(\"Check for NaN values in X_train_trend:\", X_train_trend.isnull().sum())\n",
    "\n",
    "# Check for infinite values\n",
    "import numpy as np\n",
    "print(\"Check for infinity values in X_train_trend:\", np.isinf(X_train_trend).sum())\n"
   ]
  },
  {
   "cell_type": "code",
   "execution_count": 8,
   "id": "b668282c-92f6-4756-a162-3e6580f3f6da",
   "metadata": {},
   "outputs": [],
   "source": [
    "# Replace NaN values with the mean of the column\n",
    "X_train_trend = X_train_trend.apply(lambda x: x.fillna(x.mean()), axis=0)\n",
    "X_test_trend = X_test_trend.apply(lambda x: x.fillna(x.mean()), axis=0)\n",
    "\n",
    "\n",
    "# Replace infinity values with a large finite number\n",
    "X_train_trend = X_train_trend.replace([np.inf, -np.inf], 0)\n",
    "X_test_trend = X_test_trend.replace([np.inf, -np.inf], 0)"
   ]
  },
  {
   "cell_type": "code",
   "execution_count": 9,
   "id": "271e59ea-db46-4075-a167-85c263da46d2",
   "metadata": {},
   "outputs": [
    {
     "name": "stdout",
     "output_type": "stream",
     "text": [
      "Check for NaN values in X_test_trend: Open               0\n",
      "High               0\n",
      "Low                0\n",
      "Close              0\n",
      "Volume             0\n",
      "Marketcap          0\n",
      "50-Day MA          0\n",
      "200-Day MA         0\n",
      "Price Diff         0\n",
      "Volatility         0\n",
      "Daily Return       0\n",
      "Open-Close Diff    0\n",
      "High-Low Range     0\n",
      "dtype: int64\n",
      "Check for infinity values in X_test_trend: Open               0\n",
      "High               0\n",
      "Low                0\n",
      "Close              0\n",
      "Volume             0\n",
      "Marketcap          0\n",
      "50-Day MA          0\n",
      "200-Day MA         0\n",
      "Price Diff         0\n",
      "Volatility         0\n",
      "Daily Return       0\n",
      "Open-Close Diff    0\n",
      "High-Low Range     0\n",
      "dtype: int64\n"
     ]
    }
   ],
   "source": [
    "# You can similarly check for NaN and infinite values in the test set\n",
    "print(\"Check for NaN values in X_test_trend:\", X_test_trend.isnull().sum())\n",
    "print(\"Check for infinity values in X_test_trend:\", np.isinf(X_test_trend).sum())"
   ]
  },
  {
   "cell_type": "code",
   "execution_count": 10,
   "id": "13881f0b-f3a3-4aba-b232-a4b7582a8ed2",
   "metadata": {},
   "outputs": [],
   "source": [
    "# Handle missing values by filling them with the mean or using forward/backward filling\n",
    "X_train_trend.fillna(X_train_trend.mean(), inplace=True)\n",
    "X_test_trend.fillna(X_test_trend.mean(), inplace=True)\n"
   ]
  },
  {
   "cell_type": "code",
   "execution_count": 11,
   "id": "e1acddba-30f5-4585-a0e7-603462f7a1db",
   "metadata": {},
   "outputs": [],
   "source": [
    "# Replace infinite values with NaN, then fill them with the mean or drop them\n",
    "X_train_trend.replace([np.inf, -np.inf], np.nan, inplace=True)\n",
    "X_test_trend.replace([np.inf, -np.inf], np.nan, inplace=True)\n",
    "\n",
    "# Fill NaN values (if any) with the mean\n",
    "X_train_trend.fillna(X_train_trend.mean(), inplace=True)\n",
    "X_test_trend.fillna(X_test_trend.mean(), inplace=True)\n"
   ]
  },
  {
   "cell_type": "code",
   "execution_count": 12,
   "id": "da06ef6a-3bf4-4565-975d-d1553c812918",
   "metadata": {},
   "outputs": [],
   "source": [
    "from sklearn.preprocessing import MinMaxScaler\n",
    "\n",
    "# Normalize the feature data using MinMaxScaler\n",
    "scaler_trend = MinMaxScaler(feature_range=(0, 1))\n",
    "X_train_trend_scaled = scaler_trend.fit_transform(X_train_trend)\n",
    "X_test_trend_scaled = scaler_trend.transform(X_test_trend)\n"
   ]
  },
  {
   "cell_type": "code",
   "execution_count": 13,
   "id": "e30b15c8-5c97-46a1-8a13-355b3fa82b98",
   "metadata": {},
   "outputs": [],
   "source": [
    "from sklearn.preprocessing import LabelEncoder\n",
    "\n",
    "# Encode the 'Market Trend' target variable\n",
    "encoder_trend = LabelEncoder()\n",
    "y_train_trend_encoded = encoder_trend.fit_transform(y_train_trend)\n",
    "y_test_trend_encoded = encoder_trend.transform(y_test_trend)\n"
   ]
  },
  {
   "cell_type": "code",
   "execution_count": 14,
   "id": "b7e637a2-abdd-45f8-b31f-046323bc1e0b",
   "metadata": {},
   "outputs": [
    {
     "name": "stdout",
     "output_type": "stream",
     "text": [
      "Accuracy: 0.998211091234347\n",
      "Classification Report:\n",
      "               precision    recall  f1-score   support\n",
      "\n",
      "           0       1.00      1.00      1.00       255\n",
      "           2       1.00      1.00      1.00       304\n",
      "\n",
      "    accuracy                           1.00       559\n",
      "   macro avg       1.00      1.00      1.00       559\n",
      "weighted avg       1.00      1.00      1.00       559\n",
      "\n"
     ]
    }
   ],
   "source": [
    "from sklearn.ensemble import RandomForestClassifier\n",
    "from sklearn.metrics import accuracy_score, classification_report\n",
    "from sklearn.preprocessing import LabelEncoder\n",
    "\n",
    "# Encode the target variable (Market Trend) as it seems to be categorical\n",
    "label_encoder = LabelEncoder()\n",
    "y_train_trend_encoded = label_encoder.fit_transform(y_train_trend)\n",
    "y_test_trend_encoded = label_encoder.transform(y_test_trend)\n",
    "\n",
    "# Initialize the Random Forest model\n",
    "rf_model = RandomForestClassifier(n_estimators=100, random_state=42, class_weight='balanced')\n",
    "\n",
    "# Train the model\n",
    "rf_model.fit(X_train_trend_scaled, y_train_trend_encoded)\n",
    "\n",
    "# Make predictions\n",
    "y_pred_trend_rf = rf_model.predict(X_test_trend_scaled)\n",
    "\n",
    "# Evaluate the model\n",
    "print(\"Accuracy:\", accuracy_score(y_test_trend_encoded, y_pred_trend_rf))\n",
    "print(\"Classification Report:\\n\", classification_report(y_test_trend_encoded, y_pred_trend_rf))\n"
   ]
  },
  {
   "cell_type": "code",
   "execution_count": 15,
   "id": "95416ed1-f2b4-4655-8409-8055c542dc20",
   "metadata": {},
   "outputs": [
    {
     "ename": "ModuleNotFoundError",
     "evalue": "No module named 'matplotlib'",
     "output_type": "error",
     "traceback": [
      "\u001b[1;31m---------------------------------------------------------------------------\u001b[0m",
      "\u001b[1;31mModuleNotFoundError\u001b[0m                       Traceback (most recent call last)",
      "Cell \u001b[1;32mIn[15], line 2\u001b[0m\n\u001b[0;32m      1\u001b[0m \u001b[38;5;66;03m# Check feature importance\u001b[39;00m\n\u001b[1;32m----> 2\u001b[0m \u001b[38;5;28;01mimport\u001b[39;00m \u001b[38;5;21;01mmatplotlib\u001b[39;00m\u001b[38;5;21;01m.\u001b[39;00m\u001b[38;5;21;01mpyplot\u001b[39;00m \u001b[38;5;28;01mas\u001b[39;00m \u001b[38;5;21;01mplt\u001b[39;00m\n\u001b[0;32m      4\u001b[0m importances \u001b[38;5;241m=\u001b[39m rf_model\u001b[38;5;241m.\u001b[39mfeature_importances_\n\u001b[0;32m      5\u001b[0m indices \u001b[38;5;241m=\u001b[39m np\u001b[38;5;241m.\u001b[39margsort(importances)[::\u001b[38;5;241m-\u001b[39m\u001b[38;5;241m1\u001b[39m]\n",
      "\u001b[1;31mModuleNotFoundError\u001b[0m: No module named 'matplotlib'"
     ]
    }
   ],
   "source": [
    "# Check feature importance\n",
    "import matplotlib.pyplot as plt\n",
    "\n",
    "importances = rf_model.feature_importances_\n",
    "indices = np.argsort(importances)[::-1]\n",
    "\n",
    "# Plot the feature importances\n",
    "plt.figure(figsize=(10, 6))\n",
    "plt.title(\"Feature Importance\")\n",
    "plt.bar(range(X_trend.shape[1]), importances[indices], align=\"center\")\n",
    "plt.xticks(range(X_trend.shape[1]), X_trend.columns[indices], rotation=90)\n",
    "plt.tight_layout()\n",
    "plt.show()\n"
   ]
  },
  {
   "cell_type": "code",
   "execution_count": null,
   "id": "250ff759-5013-4498-b92d-ed3eca99a744",
   "metadata": {},
   "outputs": [],
   "source": []
  }
 ],
 "metadata": {
  "kernelspec": {
   "display_name": "Python 3 (ipykernel)",
   "language": "python",
   "name": "python3"
  },
  "language_info": {
   "codemirror_mode": {
    "name": "ipython",
    "version": 3
   },
   "file_extension": ".py",
   "mimetype": "text/x-python",
   "name": "python",
   "nbconvert_exporter": "python",
   "pygments_lexer": "ipython3",
   "version": "3.12.8"
  }
 },
 "nbformat": 4,
 "nbformat_minor": 5
}
