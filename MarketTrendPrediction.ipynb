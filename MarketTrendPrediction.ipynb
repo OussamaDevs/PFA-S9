{
 "cells": [
  {
   "cell_type": "code",
   "execution_count": 1,
   "id": "e269f8ef-7f4c-4adf-8c83-cfeab1beaecf",
   "metadata": {},
   "outputs": [],
   "source": [
    "import numpy as np\n",
    "from sklearn.preprocessing import MinMaxScaler\n",
    "from tensorflow.keras.models import Sequential\n",
    "from tensorflow.keras.layers import LSTM, Dense, Dropout, Input\n",
    "from sklearn.model_selection import train_test_split\n",
    "import pandas as pd\n",
    "from sklearn.metrics import mean_absolute_error, mean_squared_error, r2_score"
   ]
  },
  {
   "cell_type": "code",
   "execution_count": 2,
   "id": "d0448df6-c03a-43c7-9d0e-311a1a510a2b",
   "metadata": {},
   "outputs": [],
   "source": [
    "file_path = \"cleaned_coin_Bitcoin.csv\" \n",
    "df = pd.read_csv(file_path)"
   ]
  },
  {
   "cell_type": "code",
   "execution_count": 3,
   "id": "7bb7cb25-08b9-4be2-9b07-33ea1f62a2c7",
   "metadata": {},
   "outputs": [],
   "source": [
    "df['Daily Return'] = df['Close'].pct_change() * 100\n",
    "\n",
    "# Create a new column for Market Trend (Up, Down, Neutral)\n",
    "df['Market Trend'] = df['Daily Return'].apply(lambda x: 'Up' if x > 0 else ('Down' if x < 0 else 'Neutral'))\n"
   ]
  },
  {
   "cell_type": "code",
   "execution_count": 4,
   "id": "d9188c44-8b45-4d08-989d-c39c17f4b68a",
   "metadata": {},
   "outputs": [],
   "source": [
    "# Encode the Market Trend labels as integers (Up = 0, Down = 1, Neutral = 2)\n",
    "from sklearn.preprocessing import LabelEncoder\n",
    "le = LabelEncoder()\n",
    "df['Market Trend'] = le.fit_transform(df['Market Trend'])\n",
    "\n",
    "# Drop rows with missing values after creating 'Daily Return'\n",
    "df = df.dropna()"
   ]
  },
  {
   "cell_type": "code",
   "execution_count": 5,
   "id": "05be1073-7e65-47cb-9ee4-e3aa3b0f24bf",
   "metadata": {},
   "outputs": [
    {
     "data": {
      "text/html": [
       "<div>\n",
       "<style scoped>\n",
       "    .dataframe tbody tr th:only-of-type {\n",
       "        vertical-align: middle;\n",
       "    }\n",
       "\n",
       "    .dataframe tbody tr th {\n",
       "        vertical-align: top;\n",
       "    }\n",
       "\n",
       "    .dataframe thead th {\n",
       "        text-align: right;\n",
       "    }\n",
       "</style>\n",
       "<table border=\"1\" class=\"dataframe\">\n",
       "  <thead>\n",
       "    <tr style=\"text-align: right;\">\n",
       "      <th></th>\n",
       "      <th>Date</th>\n",
       "      <th>High</th>\n",
       "      <th>Low</th>\n",
       "      <th>Open</th>\n",
       "      <th>Close</th>\n",
       "      <th>Volume</th>\n",
       "      <th>Marketcap</th>\n",
       "      <th>Daily Return</th>\n",
       "      <th>50-Day MA</th>\n",
       "      <th>200-Day MA</th>\n",
       "      <th>Price Diff</th>\n",
       "      <th>Volatility</th>\n",
       "      <th>Open-Close Diff</th>\n",
       "      <th>High-Low Range</th>\n",
       "      <th>Market Trend</th>\n",
       "    </tr>\n",
       "  </thead>\n",
       "  <tbody>\n",
       "    <tr>\n",
       "      <th>1</th>\n",
       "      <td>2013-11-15 23:59:59</td>\n",
       "      <td>437.890015</td>\n",
       "      <td>396.109985</td>\n",
       "      <td>419.410004</td>\n",
       "      <td>0.003788</td>\n",
       "      <td>0.0</td>\n",
       "      <td>5.013561e+09</td>\n",
       "      <td>-0.929379</td>\n",
       "      <td>0.000102</td>\n",
       "      <td>0.000031</td>\n",
       "      <td>0.003168</td>\n",
       "      <td>0.382007</td>\n",
       "      <td>419.406216</td>\n",
       "      <td>41.780029</td>\n",
       "      <td>0</td>\n",
       "    </tr>\n",
       "    <tr>\n",
       "      <th>2</th>\n",
       "      <td>2013-11-16 23:59:59</td>\n",
       "      <td>450.260010</td>\n",
       "      <td>415.570007</td>\n",
       "      <td>417.279999</td>\n",
       "      <td>0.004139</td>\n",
       "      <td>0.0</td>\n",
       "      <td>5.282849e+09</td>\n",
       "      <td>9.285081</td>\n",
       "      <td>0.000209</td>\n",
       "      <td>0.000065</td>\n",
       "      <td>0.002617</td>\n",
       "      <td>0.382844</td>\n",
       "      <td>417.275860</td>\n",
       "      <td>34.690002</td>\n",
       "      <td>2</td>\n",
       "    </tr>\n",
       "    <tr>\n",
       "      <th>3</th>\n",
       "      <td>2013-11-17 23:59:59</td>\n",
       "      <td>500.579987</td>\n",
       "      <td>440.239990</td>\n",
       "      <td>440.959991</td>\n",
       "      <td>0.004959</td>\n",
       "      <td>0.0</td>\n",
       "      <td>5.907842e+09</td>\n",
       "      <td>19.796497</td>\n",
       "      <td>0.000335</td>\n",
       "      <td>0.000108</td>\n",
       "      <td>0.004611</td>\n",
       "      <td>0.395968</td>\n",
       "      <td>440.955033</td>\n",
       "      <td>60.339996</td>\n",
       "      <td>2</td>\n",
       "    </tr>\n",
       "    <tr>\n",
       "      <th>4</th>\n",
       "      <td>2013-11-18 23:59:59</td>\n",
       "      <td>703.780029</td>\n",
       "      <td>494.940002</td>\n",
       "      <td>496.579987</td>\n",
       "      <td>0.008298</td>\n",
       "      <td>0.0</td>\n",
       "      <td>8.449070e+09</td>\n",
       "      <td>67.339269</td>\n",
       "      <td>0.000534</td>\n",
       "      <td>0.000176</td>\n",
       "      <td>0.016155</td>\n",
       "      <td>0.606395</td>\n",
       "      <td>496.571689</td>\n",
       "      <td>208.840027</td>\n",
       "      <td>2</td>\n",
       "    </tr>\n",
       "    <tr>\n",
       "      <th>5</th>\n",
       "      <td>2013-11-19 23:59:59</td>\n",
       "      <td>806.109985</td>\n",
       "      <td>456.390015</td>\n",
       "      <td>712.760010</td>\n",
       "      <td>0.006419</td>\n",
       "      <td>0.0</td>\n",
       "      <td>7.022949e+09</td>\n",
       "      <td>-22.637440</td>\n",
       "      <td>0.000692</td>\n",
       "      <td>0.000231</td>\n",
       "      <td>0.027107</td>\n",
       "      <td>0.646978</td>\n",
       "      <td>712.753590</td>\n",
       "      <td>349.719971</td>\n",
       "      <td>0</td>\n",
       "    </tr>\n",
       "  </tbody>\n",
       "</table>\n",
       "</div>"
      ],
      "text/plain": [
       "                  Date        High         Low        Open     Close  Volume  \\\n",
       "1  2013-11-15 23:59:59  437.890015  396.109985  419.410004  0.003788     0.0   \n",
       "2  2013-11-16 23:59:59  450.260010  415.570007  417.279999  0.004139     0.0   \n",
       "3  2013-11-17 23:59:59  500.579987  440.239990  440.959991  0.004959     0.0   \n",
       "4  2013-11-18 23:59:59  703.780029  494.940002  496.579987  0.008298     0.0   \n",
       "5  2013-11-19 23:59:59  806.109985  456.390015  712.760010  0.006419     0.0   \n",
       "\n",
       "      Marketcap  Daily Return  50-Day MA  200-Day MA  Price Diff  Volatility  \\\n",
       "1  5.013561e+09     -0.929379   0.000102    0.000031    0.003168    0.382007   \n",
       "2  5.282849e+09      9.285081   0.000209    0.000065    0.002617    0.382844   \n",
       "3  5.907842e+09     19.796497   0.000335    0.000108    0.004611    0.395968   \n",
       "4  8.449070e+09     67.339269   0.000534    0.000176    0.016155    0.606395   \n",
       "5  7.022949e+09    -22.637440   0.000692    0.000231    0.027107    0.646978   \n",
       "\n",
       "   Open-Close Diff  High-Low Range  Market Trend  \n",
       "1       419.406216       41.780029             0  \n",
       "2       417.275860       34.690002             2  \n",
       "3       440.955033       60.339996             2  \n",
       "4       496.571689      208.840027             2  \n",
       "5       712.753590      349.719971             0  "
      ]
     },
     "execution_count": 5,
     "metadata": {},
     "output_type": "execute_result"
    }
   ],
   "source": [
    "df.head()\n"
   ]
  },
  {
   "cell_type": "code",
   "execution_count": 6,
   "id": "e1e79cbd-c62d-4ba9-959e-00df37792f06",
   "metadata": {},
   "outputs": [],
   "source": [
    "# Define features (X) and target (y) for Market Trend prediction\n",
    "X_trend = df[['Open', 'High', 'Low', 'Close', 'Volume', 'Marketcap', '50-Day MA', '200-Day MA', 'Price Diff', 'Volatility', 'Daily Return', 'Open-Close Diff', 'High-Low Range']]\n",
    "y_trend = df['Market Trend']  # Target variable is Market Trend (Up, Down, Neutral)\n"
   ]
  },
  {
   "cell_type": "code",
   "execution_count": 7,
   "id": "1991ca11-2914-4de4-ac5e-3739194fb8c3",
   "metadata": {},
   "outputs": [
    {
     "name": "stdout",
     "output_type": "stream",
     "text": [
      "Check for NaN values in X_train_trend: Open               0\n",
      "High               0\n",
      "Low                0\n",
      "Close              0\n",
      "Volume             0\n",
      "Marketcap          0\n",
      "50-Day MA          0\n",
      "200-Day MA         0\n",
      "Price Diff         0\n",
      "Volatility         0\n",
      "Daily Return       0\n",
      "Open-Close Diff    0\n",
      "High-Low Range     0\n",
      "dtype: int64\n",
      "Check for infinity values in X_train_trend: Open               0\n",
      "High               0\n",
      "Low                0\n",
      "Close              0\n",
      "Volume             0\n",
      "Marketcap          0\n",
      "50-Day MA          0\n",
      "200-Day MA         0\n",
      "Price Diff         0\n",
      "Volatility         0\n",
      "Daily Return       1\n",
      "Open-Close Diff    0\n",
      "High-Low Range     0\n",
      "dtype: int64\n"
     ]
    }
   ],
   "source": [
    "# Split the data into training and testing sets (80% train, 20% test)\n",
    "X_train_trend, X_test_trend, y_train_trend, y_test_trend = train_test_split(X_trend, y_trend, test_size=0.2, shuffle=False)\n",
    "\n",
    "# Check for NaN values\n",
    "print(\"Check for NaN values in X_train_trend:\", X_train_trend.isnull().sum())\n",
    "\n",
    "# Check for infinite values\n",
    "import numpy as np\n",
    "print(\"Check for infinity values in X_train_trend:\", np.isinf(X_train_trend).sum())\n"
   ]
  },
  {
   "cell_type": "code",
   "execution_count": 8,
   "id": "b668282c-92f6-4756-a162-3e6580f3f6da",
   "metadata": {},
   "outputs": [],
   "source": [
    "# Replace NaN values with the mean of the column\n",
    "X_train_trend = X_train_trend.apply(lambda x: x.fillna(x.mean()), axis=0)\n",
    "X_test_trend = X_test_trend.apply(lambda x: x.fillna(x.mean()), axis=0)\n",
    "\n",
    "\n",
    "# Replace infinity values with a large finite number\n",
    "X_train_trend = X_train_trend.replace([np.inf, -np.inf], 0)\n",
    "X_test_trend = X_test_trend.replace([np.inf, -np.inf], 0)"
   ]
  },
  {
   "cell_type": "code",
   "execution_count": 9,
   "id": "271e59ea-db46-4075-a167-85c263da46d2",
   "metadata": {},
   "outputs": [
    {
     "name": "stdout",
     "output_type": "stream",
     "text": [
      "Check for NaN values in X_test_trend: Open               0\n",
      "High               0\n",
      "Low                0\n",
      "Close              0\n",
      "Volume             0\n",
      "Marketcap          0\n",
      "50-Day MA          0\n",
      "200-Day MA         0\n",
      "Price Diff         0\n",
      "Volatility         0\n",
      "Daily Return       0\n",
      "Open-Close Diff    0\n",
      "High-Low Range     0\n",
      "dtype: int64\n",
      "Check for infinity values in X_test_trend: Open               0\n",
      "High               0\n",
      "Low                0\n",
      "Close              0\n",
      "Volume             0\n",
      "Marketcap          0\n",
      "50-Day MA          0\n",
      "200-Day MA         0\n",
      "Price Diff         0\n",
      "Volatility         0\n",
      "Daily Return       0\n",
      "Open-Close Diff    0\n",
      "High-Low Range     0\n",
      "dtype: int64\n"
     ]
    }
   ],
   "source": [
    "# You can similarly check for NaN and infinite values in the test set\n",
    "print(\"Check for NaN values in X_test_trend:\", X_test_trend.isnull().sum())\n",
    "print(\"Check for infinity values in X_test_trend:\", np.isinf(X_test_trend).sum())"
   ]
  },
  {
   "cell_type": "code",
   "execution_count": 10,
   "id": "13881f0b-f3a3-4aba-b232-a4b7582a8ed2",
   "metadata": {},
   "outputs": [],
   "source": [
    "# Handle missing values by filling them with the mean or using forward/backward filling\n",
    "X_train_trend.fillna(X_train_trend.mean(), inplace=True)\n",
    "X_test_trend.fillna(X_test_trend.mean(), inplace=True)\n"
   ]
  },
  {
   "cell_type": "code",
   "execution_count": 11,
   "id": "e1acddba-30f5-4585-a0e7-603462f7a1db",
   "metadata": {},
   "outputs": [],
   "source": [
    "# Replace infinite values with NaN, then fill them with the mean or drop them\n",
    "X_train_trend.replace([np.inf, -np.inf], np.nan, inplace=True)\n",
    "X_test_trend.replace([np.inf, -np.inf], np.nan, inplace=True)\n",
    "\n",
    "# Fill NaN values (if any) with the mean\n",
    "X_train_trend.fillna(X_train_trend.mean(), inplace=True)\n",
    "X_test_trend.fillna(X_test_trend.mean(), inplace=True)\n"
   ]
  },
  {
   "cell_type": "code",
   "execution_count": 12,
   "id": "da06ef6a-3bf4-4565-975d-d1553c812918",
   "metadata": {},
   "outputs": [],
   "source": [
    "from sklearn.preprocessing import MinMaxScaler\n",
    "\n",
    "# Normalize the feature data using MinMaxScaler\n",
    "scaler_trend = MinMaxScaler(feature_range=(0, 1))\n",
    "X_train_trend_scaled = scaler_trend.fit_transform(X_train_trend)\n",
    "X_test_trend_scaled = scaler_trend.transform(X_test_trend)\n"
   ]
  },
  {
   "cell_type": "code",
   "execution_count": 13,
   "id": "e30b15c8-5c97-46a1-8a13-355b3fa82b98",
   "metadata": {},
   "outputs": [],
   "source": [
    "from sklearn.preprocessing import LabelEncoder\n",
    "\n",
    "# Encode the 'Market Trend' target variable\n",
    "encoder_trend = LabelEncoder()\n",
    "y_train_trend_encoded = encoder_trend.fit_transform(y_train_trend)\n",
    "y_test_trend_encoded = encoder_trend.transform(y_test_trend)\n"
   ]
  },
  {
   "cell_type": "code",
   "execution_count": 18,
   "id": "b7e637a2-abdd-45f8-b31f-046323bc1e0b",
   "metadata": {},
   "outputs": [
    {
     "name": "stdout",
     "output_type": "stream",
     "text": [
      "Check for NaN values in X_train_trend: Open               0\n",
      "High               0\n",
      "Low                0\n",
      "Close              0\n",
      "Volume             0\n",
      "Marketcap          0\n",
      "50-Day MA          0\n",
      "200-Day MA         0\n",
      "Price Diff         0\n",
      "Volatility         0\n",
      "Daily Return       0\n",
      "Open-Close Diff    0\n",
      "High-Low Range     0\n",
      "dtype: int64\n",
      "Check for Inf values in X_train_trend: Open               0\n",
      "High               0\n",
      "Low                0\n",
      "Close              0\n",
      "Volume             0\n",
      "Marketcap          0\n",
      "50-Day MA          0\n",
      "200-Day MA         0\n",
      "Price Diff         0\n",
      "Volatility         0\n",
      "Daily Return       0\n",
      "Open-Close Diff    0\n",
      "High-Low Range     0\n",
      "dtype: int64\n",
      "Check for NaN values in X_train_trend: Open               0\n",
      "High               0\n",
      "Low                0\n",
      "Close              0\n",
      "Volume             0\n",
      "Marketcap          0\n",
      "50-Day MA          0\n",
      "200-Day MA         0\n",
      "Price Diff         0\n",
      "Volatility         0\n",
      "Daily Return       0\n",
      "Open-Close Diff    0\n",
      "High-Low Range     0\n",
      "dtype: int64\n",
      "Check for Inf values in X_train_trend: Open               0\n",
      "High               0\n",
      "Low                0\n",
      "Close              0\n",
      "Volume             0\n",
      "Marketcap          0\n",
      "50-Day MA          0\n",
      "200-Day MA         0\n",
      "Price Diff         0\n",
      "Volatility         0\n",
      "Daily Return       0\n",
      "Open-Close Diff    0\n",
      "High-Low Range     0\n",
      "dtype: int64\n"
     ]
    },
    {
     "name": "stderr",
     "output_type": "stream",
     "text": [
      "C:\\Users\\Aleix\\AppData\\Local\\Temp\\ipykernel_21304\\3075000147.py:9: FutureWarning: A value is trying to be set on a copy of a DataFrame or Series through chained assignment using an inplace method.\n",
      "The behavior will change in pandas 3.0. This inplace method will never work because the intermediate object on which we are setting values always behaves as a copy.\n",
      "\n",
      "For example, when doing 'df[col].method(value, inplace=True)', try using 'df.method({col: value}, inplace=True)' or df[col] = df[col].method(value) instead, to perform the operation inplace on the original object.\n",
      "\n",
      "\n",
      "  X_train_trend['Daily Return'].replace([np.inf, -np.inf], X_train_trend['Daily Return'].mean(), inplace=True)\n",
      "C:\\Users\\Aleix\\AppData\\Local\\Temp\\ipykernel_21304\\3075000147.py:10: FutureWarning: A value is trying to be set on a copy of a DataFrame or Series through chained assignment using an inplace method.\n",
      "The behavior will change in pandas 3.0. This inplace method will never work because the intermediate object on which we are setting values always behaves as a copy.\n",
      "\n",
      "For example, when doing 'df[col].method(value, inplace=True)', try using 'df.method({col: value}, inplace=True)' or df[col] = df[col].method(value) instead, to perform the operation inplace on the original object.\n",
      "\n",
      "\n",
      "  X_test_trend['Daily Return'].replace([np.inf, -np.inf], X_test_trend['Daily Return'].mean(), inplace=True)\n"
     ]
    }
   ],
   "source": [
    "import numpy as np\n",
    "import pandas as pd\n",
    "\n",
    "# Check for NaN and Infinite values in the data\n",
    "print(\"Check for NaN values in X_train_trend:\", np.isnan(X_train_trend).sum())\n",
    "print(\"Check for Inf values in X_train_trend:\", np.isinf(X_train_trend).sum())\n",
    "\n",
    "\n",
    "X_train_trend['Daily Return'].replace([np.inf, -np.inf], X_train_trend['Daily Return'].mean(), inplace=True)\n",
    "X_test_trend['Daily Return'].replace([np.inf, -np.inf], X_test_trend['Daily Return'].mean(), inplace=True)\n",
    "\n",
    "# Check for NaN and Infinite values in the data\n",
    "print(\"Check for NaN values in X_train_trend:\", np.isnan(X_train_trend).sum())\n",
    "print(\"Check for Inf values in X_train_trend:\", np.isinf(X_train_trend).sum())"
   ]
  },
  {
   "cell_type": "code",
   "execution_count": 22,
   "id": "95416ed1-f2b4-4655-8409-8055c542dc20",
   "metadata": {},
   "outputs": [
    {
     "name": "stdout",
     "output_type": "stream",
     "text": [
      "Accuracy: 1.0\n",
      "Classification Report:\n",
      "               precision    recall  f1-score   support\n",
      "\n",
      "           0       1.00      1.00      1.00       255\n",
      "           2       1.00      1.00      1.00       304\n",
      "\n",
      "    accuracy                           1.00       559\n",
      "   macro avg       1.00      1.00      1.00       559\n",
      "weighted avg       1.00      1.00      1.00       559\n",
      "\n"
     ]
    }
   ],
   "source": [
    "import xgboost as xgb\n",
    "from sklearn.metrics import accuracy_score, classification_report\n",
    "\n",
    "# Initialize the XGBoost model\n",
    "xgb_model = xgb.XGBClassifier(\n",
    "    n_estimators=100,\n",
    "    max_depth=6,           # Increase max depth to control overfitting\n",
    "    min_child_weight=3,    # A higher value to control overfitting\n",
    "    learning_rate=0.05,    # Smaller learning rate for better generalization\n",
    "    subsample=0.8,         # Subsampling to add randomness\n",
    "    colsample_bytree=0.8,  # Randomly select features to build trees\n",
    "    random_state=42\n",
    ")\n",
    "\n",
    "\n",
    "# Train the model\n",
    "xgb_model.fit(X_train_trend, y_train_trend)\n",
    "\n",
    "# Predict using the trained model\n",
    "y_pred_trend_xgb = xgb_model.predict(X_test_trend)\n",
    "\n",
    "# Evaluate the model\n",
    "print(\"Accuracy:\", accuracy_score(y_test_trend, y_pred_trend_xgb))\n",
    "print(\"Classification Report:\\n\", classification_report(y_test_trend, y_pred_trend_xgb))\n"
   ]
  },
  {
   "cell_type": "code",
   "execution_count": 23,
   "id": "250ff759-5013-4498-b92d-ed3eca99a744",
   "metadata": {},
   "outputs": [
    {
     "data": {
      "image/png": "[encoded data removed]",
      "text/plain": [
       "<Figure size 1000x600 with 1 Axes>"
      ]
     },
     "metadata": {},
     "output_type": "display_data"
    }
   ],
   "source": [
    "# Check feature importance\n",
    "import matplotlib.pyplot as plt\n",
    "\n",
    "importances = xgb_model.feature_importances_\n",
    "indices = np.argsort(importances)[::-1]\n",
    "\n",
    "# Plot the feature importances\n",
    "plt.figure(figsize=(10, 6))\n",
    "plt.title(\"Feature Importance\")\n",
    "plt.bar(range(X_trend.shape[1]), importances[indices], align=\"center\")\n",
    "plt.xticks(range(X_trend.shape[1]), X_trend.columns[indices], rotation=90)\n",
    "plt.tight_layout()\n",
    "plt.show()\n"
   ]
  },
  {
   "cell_type": "code",
   "execution_count": 24,
   "id": "1d334357-3b98-4f0c-ad41-fb3156f67ef9",
   "metadata": {},
   "outputs": [
    {
     "name": "stderr",
     "output_type": "stream",
     "text": [
      "C:\\Users\\Aleix\\AppData\\Local\\Packages\\PythonSoftwareFoundation.Python.3.12_qbz5n2kfra8p0\\LocalCache\\local-packages\\Python312\\site-packages\\sklearn\\utils\\_tags.py:354: FutureWarning: The XGBClassifier or classes from which it inherits use `_get_tags` and `_more_tags`. Please define the `__sklearn_tags__` method, or inherit from `sklearn.base.BaseEstimator` and/or other appropriate mixins such as `sklearn.base.TransformerMixin`, `sklearn.base.ClassifierMixin`, `sklearn.base.RegressorMixin`, and `sklearn.base.OutlierMixin`. From scikit-learn 1.7, not defining `__sklearn_tags__` will raise an error.\n",
      "  warnings.warn(\n"
     ]
    },
    {
     "ename": "AttributeError",
     "evalue": "'super' object has no attribute '__sklearn_tags__'",
     "output_type": "error",
     "traceback": [
      "\u001b[1;31m---------------------------------------------------------------------------\u001b[0m",
      "\u001b[1;31mAttributeError\u001b[0m                            Traceback (most recent call last)",
      "Cell \u001b[1;32mIn[24], line 6\u001b[0m\n\u001b[0;32m      4\u001b[0m \u001b[38;5;66;03m# Cross-validation with StratifiedKFold\u001b[39;00m\n\u001b[0;32m      5\u001b[0m cv \u001b[38;5;241m=\u001b[39m StratifiedKFold(n_splits\u001b[38;5;241m=\u001b[39m\u001b[38;5;241m5\u001b[39m, shuffle\u001b[38;5;241m=\u001b[39m\u001b[38;5;28;01mTrue\u001b[39;00m, random_state\u001b[38;5;241m=\u001b[39m\u001b[38;5;241m42\u001b[39m)\n\u001b[1;32m----> 6\u001b[0m scores \u001b[38;5;241m=\u001b[39m \u001b[43mcross_val_score\u001b[49m\u001b[43m(\u001b[49m\u001b[43mxgb_model\u001b[49m\u001b[43m,\u001b[49m\u001b[43m \u001b[49m\u001b[43mX_train_trend\u001b[49m\u001b[43m,\u001b[49m\u001b[43m \u001b[49m\u001b[43my_train_trend\u001b[49m\u001b[43m,\u001b[49m\u001b[43m \u001b[49m\u001b[43mcv\u001b[49m\u001b[38;5;241;43m=\u001b[39;49m\u001b[43mcv\u001b[49m\u001b[43m,\u001b[49m\u001b[43m \u001b[49m\u001b[43mscoring\u001b[49m\u001b[38;5;241;43m=\u001b[39;49m\u001b[38;5;124;43m'\u001b[39;49m\u001b[38;5;124;43maccuracy\u001b[39;49m\u001b[38;5;124;43m'\u001b[39;49m\u001b[43m)\u001b[49m\n\u001b[0;32m      8\u001b[0m \u001b[38;5;28mprint\u001b[39m(\u001b[38;5;124mf\u001b[39m\u001b[38;5;124m\"\u001b[39m\u001b[38;5;124mCross-validation accuracy: \u001b[39m\u001b[38;5;132;01m{\u001b[39;00mscores\u001b[38;5;241m.\u001b[39mmean()\u001b[38;5;132;01m}\u001b[39;00m\u001b[38;5;124m ± \u001b[39m\u001b[38;5;132;01m{\u001b[39;00mscores\u001b[38;5;241m.\u001b[39mstd()\u001b[38;5;132;01m}\u001b[39;00m\u001b[38;5;124m\"\u001b[39m)\n",
      "File \u001b[1;32m~\\AppData\\Local\\Packages\\PythonSoftwareFoundation.Python.3.12_qbz5n2kfra8p0\\LocalCache\\local-packages\\Python312\\site-packages\\sklearn\\utils\\_param_validation.py:216\u001b[0m, in \u001b[0;36mvalidate_params.<locals>.decorator.<locals>.wrapper\u001b[1;34m(*args, **kwargs)\u001b[0m\n\u001b[0;32m    210\u001b[0m \u001b[38;5;28;01mtry\u001b[39;00m:\n\u001b[0;32m    211\u001b[0m     \u001b[38;5;28;01mwith\u001b[39;00m config_context(\n\u001b[0;32m    212\u001b[0m         skip_parameter_validation\u001b[38;5;241m=\u001b[39m(\n\u001b[0;32m    213\u001b[0m             prefer_skip_nested_validation \u001b[38;5;129;01mor\u001b[39;00m global_skip_validation\n\u001b[0;32m    214\u001b[0m         )\n\u001b[0;32m    215\u001b[0m     ):\n\u001b[1;32m--> 216\u001b[0m         \u001b[38;5;28;01mreturn\u001b[39;00m \u001b[43mfunc\u001b[49m\u001b[43m(\u001b[49m\u001b[38;5;241;43m*\u001b[39;49m\u001b[43margs\u001b[49m\u001b[43m,\u001b[49m\u001b[43m \u001b[49m\u001b[38;5;241;43m*\u001b[39;49m\u001b[38;5;241;43m*\u001b[39;49m\u001b[43mkwargs\u001b[49m\u001b[43m)\u001b[49m\n\u001b[0;32m    217\u001b[0m \u001b[38;5;28;01mexcept\u001b[39;00m InvalidParameterError \u001b[38;5;28;01mas\u001b[39;00m e:\n\u001b[0;32m    218\u001b[0m     \u001b[38;5;66;03m# When the function is just a wrapper around an estimator, we allow\u001b[39;00m\n\u001b[0;32m    219\u001b[0m     \u001b[38;5;66;03m# the function to delegate validation to the estimator, but we replace\u001b[39;00m\n\u001b[0;32m    220\u001b[0m     \u001b[38;5;66;03m# the name of the estimator by the name of the function in the error\u001b[39;00m\n\u001b[0;32m    221\u001b[0m     \u001b[38;5;66;03m# message to avoid confusion.\u001b[39;00m\n\u001b[0;32m    222\u001b[0m     msg \u001b[38;5;241m=\u001b[39m re\u001b[38;5;241m.\u001b[39msub(\n\u001b[0;32m    223\u001b[0m         \u001b[38;5;124mr\u001b[39m\u001b[38;5;124m\"\u001b[39m\u001b[38;5;124mparameter of \u001b[39m\u001b[38;5;124m\\\u001b[39m\u001b[38;5;124mw+ must be\u001b[39m\u001b[38;5;124m\"\u001b[39m,\n\u001b[0;32m    224\u001b[0m         \u001b[38;5;124mf\u001b[39m\u001b[38;5;124m\"\u001b[39m\u001b[38;5;124mparameter of \u001b[39m\u001b[38;5;132;01m{\u001b[39;00mfunc\u001b[38;5;241m.\u001b[39m\u001b[38;5;18m__qualname__\u001b[39m\u001b[38;5;132;01m}\u001b[39;00m\u001b[38;5;124m must be\u001b[39m\u001b[38;5;124m\"\u001b[39m,\n\u001b[0;32m    225\u001b[0m         \u001b[38;5;28mstr\u001b[39m(e),\n\u001b[0;32m    226\u001b[0m     )\n",
      "File \u001b[1;32m~\\AppData\\Local\\Packages\\PythonSoftwareFoundation.Python.3.12_qbz5n2kfra8p0\\LocalCache\\local-packages\\Python312\\site-packages\\sklearn\\model_selection\\_validation.py:684\u001b[0m, in \u001b[0;36mcross_val_score\u001b[1;34m(estimator, X, y, groups, scoring, cv, n_jobs, verbose, params, pre_dispatch, error_score)\u001b[0m\n\u001b[0;32m    681\u001b[0m \u001b[38;5;66;03m# To ensure multimetric format is not supported\u001b[39;00m\n\u001b[0;32m    682\u001b[0m scorer \u001b[38;5;241m=\u001b[39m check_scoring(estimator, scoring\u001b[38;5;241m=\u001b[39mscoring)\n\u001b[1;32m--> 684\u001b[0m cv_results \u001b[38;5;241m=\u001b[39m \u001b[43mcross_validate\u001b[49m\u001b[43m(\u001b[49m\n\u001b[0;32m    685\u001b[0m \u001b[43m    \u001b[49m\u001b[43mestimator\u001b[49m\u001b[38;5;241;43m=\u001b[39;49m\u001b[43mestimator\u001b[49m\u001b[43m,\u001b[49m\n\u001b[0;32m    686\u001b[0m \u001b[43m    \u001b[49m\u001b[43mX\u001b[49m\u001b[38;5;241;43m=\u001b[39;49m\u001b[43mX\u001b[49m\u001b[43m,\u001b[49m\n\u001b[0;32m    687\u001b[0m \u001b[43m    \u001b[49m\u001b[43my\u001b[49m\u001b[38;5;241;43m=\u001b[39;49m\u001b[43my\u001b[49m\u001b[43m,\u001b[49m\n\u001b[0;32m    688\u001b[0m \u001b[43m    \u001b[49m\u001b[43mgroups\u001b[49m\u001b[38;5;241;43m=\u001b[39;49m\u001b[43mgroups\u001b[49m\u001b[43m,\u001b[49m\n\u001b[0;32m    689\u001b[0m \u001b[43m    \u001b[49m\u001b[43mscoring\u001b[49m\u001b[38;5;241;43m=\u001b[39;49m\u001b[43m{\u001b[49m\u001b[38;5;124;43m\"\u001b[39;49m\u001b[38;5;124;43mscore\u001b[39;49m\u001b[38;5;124;43m\"\u001b[39;49m\u001b[43m:\u001b[49m\u001b[43m \u001b[49m\u001b[43mscorer\u001b[49m\u001b[43m}\u001b[49m\u001b[43m,\u001b[49m\n\u001b[0;32m    690\u001b[0m \u001b[43m    \u001b[49m\u001b[43mcv\u001b[49m\u001b[38;5;241;43m=\u001b[39;49m\u001b[43mcv\u001b[49m\u001b[43m,\u001b[49m\n\u001b[0;32m    691\u001b[0m \u001b[43m    \u001b[49m\u001b[43mn_jobs\u001b[49m\u001b[38;5;241;43m=\u001b[39;49m\u001b[43mn_jobs\u001b[49m\u001b[43m,\u001b[49m\n\u001b[0;32m    692\u001b[0m \u001b[43m    \u001b[49m\u001b[43mverbose\u001b[49m\u001b[38;5;241;43m=\u001b[39;49m\u001b[43mverbose\u001b[49m\u001b[43m,\u001b[49m\n\u001b[0;32m    693\u001b[0m \u001b[43m    \u001b[49m\u001b[43mparams\u001b[49m\u001b[38;5;241;43m=\u001b[39;49m\u001b[43mparams\u001b[49m\u001b[43m,\u001b[49m\n\u001b[0;32m    694\u001b[0m \u001b[43m    \u001b[49m\u001b[43mpre_dispatch\u001b[49m\u001b[38;5;241;43m=\u001b[39;49m\u001b[43mpre_dispatch\u001b[49m\u001b[43m,\u001b[49m\n\u001b[0;32m    695\u001b[0m \u001b[43m    \u001b[49m\u001b[43merror_score\u001b[49m\u001b[38;5;241;43m=\u001b[39;49m\u001b[43merror_score\u001b[49m\u001b[43m,\u001b[49m\n\u001b[0;32m    696\u001b[0m \u001b[43m\u001b[49m\u001b[43m)\u001b[49m\n\u001b[0;32m    697\u001b[0m \u001b[38;5;28;01mreturn\u001b[39;00m cv_results[\u001b[38;5;124m\"\u001b[39m\u001b[38;5;124mtest_score\u001b[39m\u001b[38;5;124m\"\u001b[39m]\n",
      "File \u001b[1;32m~\\AppData\\Local\\Packages\\PythonSoftwareFoundation.Python.3.12_qbz5n2kfra8p0\\LocalCache\\local-packages\\Python312\\site-packages\\sklearn\\utils\\_param_validation.py:216\u001b[0m, in \u001b[0;36mvalidate_params.<locals>.decorator.<locals>.wrapper\u001b[1;34m(*args, **kwargs)\u001b[0m\n\u001b[0;32m    210\u001b[0m \u001b[38;5;28;01mtry\u001b[39;00m:\n\u001b[0;32m    211\u001b[0m     \u001b[38;5;28;01mwith\u001b[39;00m config_context(\n\u001b[0;32m    212\u001b[0m         skip_parameter_validation\u001b[38;5;241m=\u001b[39m(\n\u001b[0;32m    213\u001b[0m             prefer_skip_nested_validation \u001b[38;5;129;01mor\u001b[39;00m global_skip_validation\n\u001b[0;32m    214\u001b[0m         )\n\u001b[0;32m    215\u001b[0m     ):\n\u001b[1;32m--> 216\u001b[0m         \u001b[38;5;28;01mreturn\u001b[39;00m \u001b[43mfunc\u001b[49m\u001b[43m(\u001b[49m\u001b[38;5;241;43m*\u001b[39;49m\u001b[43margs\u001b[49m\u001b[43m,\u001b[49m\u001b[43m \u001b[49m\u001b[38;5;241;43m*\u001b[39;49m\u001b[38;5;241;43m*\u001b[39;49m\u001b[43mkwargs\u001b[49m\u001b[43m)\u001b[49m\n\u001b[0;32m    217\u001b[0m \u001b[38;5;28;01mexcept\u001b[39;00m InvalidParameterError \u001b[38;5;28;01mas\u001b[39;00m e:\n\u001b[0;32m    218\u001b[0m     \u001b[38;5;66;03m# When the function is just a wrapper around an estimator, we allow\u001b[39;00m\n\u001b[0;32m    219\u001b[0m     \u001b[38;5;66;03m# the function to delegate validation to the estimator, but we replace\u001b[39;00m\n\u001b[0;32m    220\u001b[0m     \u001b[38;5;66;03m# the name of the estimator by the name of the function in the error\u001b[39;00m\n\u001b[0;32m    221\u001b[0m     \u001b[38;5;66;03m# message to avoid confusion.\u001b[39;00m\n\u001b[0;32m    222\u001b[0m     msg \u001b[38;5;241m=\u001b[39m re\u001b[38;5;241m.\u001b[39msub(\n\u001b[0;32m    223\u001b[0m         \u001b[38;5;124mr\u001b[39m\u001b[38;5;124m\"\u001b[39m\u001b[38;5;124mparameter of \u001b[39m\u001b[38;5;124m\\\u001b[39m\u001b[38;5;124mw+ must be\u001b[39m\u001b[38;5;124m\"\u001b[39m,\n\u001b[0;32m    224\u001b[0m         \u001b[38;5;124mf\u001b[39m\u001b[38;5;124m\"\u001b[39m\u001b[38;5;124mparameter of \u001b[39m\u001b[38;5;132;01m{\u001b[39;00mfunc\u001b[38;5;241m.\u001b[39m\u001b[38;5;18m__qualname__\u001b[39m\u001b[38;5;132;01m}\u001b[39;00m\u001b[38;5;124m must be\u001b[39m\u001b[38;5;124m\"\u001b[39m,\n\u001b[0;32m    225\u001b[0m         \u001b[38;5;28mstr\u001b[39m(e),\n\u001b[0;32m    226\u001b[0m     )\n",
      "File \u001b[1;32m~\\AppData\\Local\\Packages\\PythonSoftwareFoundation.Python.3.12_qbz5n2kfra8p0\\LocalCache\\local-packages\\Python312\\site-packages\\sklearn\\model_selection\\_validation.py:347\u001b[0m, in \u001b[0;36mcross_validate\u001b[1;34m(estimator, X, y, groups, scoring, cv, n_jobs, verbose, params, pre_dispatch, return_train_score, return_estimator, return_indices, error_score)\u001b[0m\n\u001b[0;32m    343\u001b[0m _check_groups_routing_disabled(groups)\n\u001b[0;32m    345\u001b[0m X, y \u001b[38;5;241m=\u001b[39m indexable(X, y)\n\u001b[1;32m--> 347\u001b[0m cv \u001b[38;5;241m=\u001b[39m check_cv(cv, y, classifier\u001b[38;5;241m=\u001b[39m\u001b[43mis_classifier\u001b[49m\u001b[43m(\u001b[49m\u001b[43mestimator\u001b[49m\u001b[43m)\u001b[49m)\n\u001b[0;32m    349\u001b[0m scorers \u001b[38;5;241m=\u001b[39m check_scoring(\n\u001b[0;32m    350\u001b[0m     estimator, scoring\u001b[38;5;241m=\u001b[39mscoring, raise_exc\u001b[38;5;241m=\u001b[39m(error_score \u001b[38;5;241m==\u001b[39m \u001b[38;5;124m\"\u001b[39m\u001b[38;5;124mraise\u001b[39m\u001b[38;5;124m\"\u001b[39m)\n\u001b[0;32m    351\u001b[0m )\n\u001b[0;32m    353\u001b[0m \u001b[38;5;28;01mif\u001b[39;00m _routing_enabled():\n\u001b[0;32m    354\u001b[0m     \u001b[38;5;66;03m# For estimators, a MetadataRouter is created in get_metadata_routing\u001b[39;00m\n\u001b[0;32m    355\u001b[0m     \u001b[38;5;66;03m# methods. For these router methods, we create the router to use\u001b[39;00m\n\u001b[0;32m    356\u001b[0m     \u001b[38;5;66;03m# `process_routing` on it.\u001b[39;00m\n",
      "File \u001b[1;32m~\\AppData\\Local\\Packages\\PythonSoftwareFoundation.Python.3.12_qbz5n2kfra8p0\\LocalCache\\local-packages\\Python312\\site-packages\\sklearn\\base.py:1237\u001b[0m, in \u001b[0;36mis_classifier\u001b[1;34m(estimator)\u001b[0m\n\u001b[0;32m   1230\u001b[0m     warnings\u001b[38;5;241m.\u001b[39mwarn(\n\u001b[0;32m   1231\u001b[0m         \u001b[38;5;124mf\u001b[39m\u001b[38;5;124m\"\u001b[39m\u001b[38;5;124mpassing a class to \u001b[39m\u001b[38;5;132;01m{\u001b[39;00m\u001b[38;5;28mprint\u001b[39m(inspect\u001b[38;5;241m.\u001b[39mstack()[\u001b[38;5;241m0\u001b[39m][\u001b[38;5;241m3\u001b[39m])\u001b[38;5;132;01m}\u001b[39;00m\u001b[38;5;124m is deprecated and \u001b[39m\u001b[38;5;124m\"\u001b[39m\n\u001b[0;32m   1232\u001b[0m         \u001b[38;5;124m\"\u001b[39m\u001b[38;5;124mwill be removed in 1.8. Use an instance of the class instead.\u001b[39m\u001b[38;5;124m\"\u001b[39m,\n\u001b[0;32m   1233\u001b[0m         \u001b[38;5;167;01mFutureWarning\u001b[39;00m,\n\u001b[0;32m   1234\u001b[0m     )\n\u001b[0;32m   1235\u001b[0m     \u001b[38;5;28;01mreturn\u001b[39;00m \u001b[38;5;28mgetattr\u001b[39m(estimator, \u001b[38;5;124m\"\u001b[39m\u001b[38;5;124m_estimator_type\u001b[39m\u001b[38;5;124m\"\u001b[39m, \u001b[38;5;28;01mNone\u001b[39;00m) \u001b[38;5;241m==\u001b[39m \u001b[38;5;124m\"\u001b[39m\u001b[38;5;124mclassifier\u001b[39m\u001b[38;5;124m\"\u001b[39m\n\u001b[1;32m-> 1237\u001b[0m \u001b[38;5;28;01mreturn\u001b[39;00m \u001b[43mget_tags\u001b[49m\u001b[43m(\u001b[49m\u001b[43mestimator\u001b[49m\u001b[43m)\u001b[49m\u001b[38;5;241m.\u001b[39mestimator_type \u001b[38;5;241m==\u001b[39m \u001b[38;5;124m\"\u001b[39m\u001b[38;5;124mclassifier\u001b[39m\u001b[38;5;124m\"\u001b[39m\n",
      "File \u001b[1;32m~\\AppData\\Local\\Packages\\PythonSoftwareFoundation.Python.3.12_qbz5n2kfra8p0\\LocalCache\\local-packages\\Python312\\site-packages\\sklearn\\utils\\_tags.py:405\u001b[0m, in \u001b[0;36mget_tags\u001b[1;34m(estimator)\u001b[0m\n\u001b[0;32m    403\u001b[0m \u001b[38;5;28;01mfor\u001b[39;00m klass \u001b[38;5;129;01min\u001b[39;00m \u001b[38;5;28mreversed\u001b[39m(\u001b[38;5;28mtype\u001b[39m(estimator)\u001b[38;5;241m.\u001b[39mmro()):\n\u001b[0;32m    404\u001b[0m     \u001b[38;5;28;01mif\u001b[39;00m \u001b[38;5;124m\"\u001b[39m\u001b[38;5;124m__sklearn_tags__\u001b[39m\u001b[38;5;124m\"\u001b[39m \u001b[38;5;129;01min\u001b[39;00m \u001b[38;5;28mvars\u001b[39m(klass):\n\u001b[1;32m--> 405\u001b[0m         sklearn_tags_provider[klass] \u001b[38;5;241m=\u001b[39m \u001b[43mklass\u001b[49m\u001b[38;5;241;43m.\u001b[39;49m\u001b[43m__sklearn_tags__\u001b[49m\u001b[43m(\u001b[49m\u001b[43mestimator\u001b[49m\u001b[43m)\u001b[49m  \u001b[38;5;66;03m# type: ignore[attr-defined]\u001b[39;00m\n\u001b[0;32m    406\u001b[0m         class_order\u001b[38;5;241m.\u001b[39mappend(klass)\n\u001b[0;32m    407\u001b[0m     \u001b[38;5;28;01melif\u001b[39;00m \u001b[38;5;124m\"\u001b[39m\u001b[38;5;124m_more_tags\u001b[39m\u001b[38;5;124m\"\u001b[39m \u001b[38;5;129;01min\u001b[39;00m \u001b[38;5;28mvars\u001b[39m(klass):\n",
      "File \u001b[1;32m~\\AppData\\Local\\Packages\\PythonSoftwareFoundation.Python.3.12_qbz5n2kfra8p0\\LocalCache\\local-packages\\Python312\\site-packages\\sklearn\\base.py:540\u001b[0m, in \u001b[0;36mClassifierMixin.__sklearn_tags__\u001b[1;34m(self)\u001b[0m\n\u001b[0;32m    539\u001b[0m \u001b[38;5;28;01mdef\u001b[39;00m \u001b[38;5;21m__sklearn_tags__\u001b[39m(\u001b[38;5;28mself\u001b[39m):\n\u001b[1;32m--> 540\u001b[0m     tags \u001b[38;5;241m=\u001b[39m \u001b[38;5;28;43msuper\u001b[39;49m\u001b[43m(\u001b[49m\u001b[43m)\u001b[49m\u001b[38;5;241;43m.\u001b[39;49m\u001b[43m__sklearn_tags__\u001b[49m()\n\u001b[0;32m    541\u001b[0m     tags\u001b[38;5;241m.\u001b[39mestimator_type \u001b[38;5;241m=\u001b[39m \u001b[38;5;124m\"\u001b[39m\u001b[38;5;124mclassifier\u001b[39m\u001b[38;5;124m\"\u001b[39m\n\u001b[0;32m    542\u001b[0m     tags\u001b[38;5;241m.\u001b[39mclassifier_tags \u001b[38;5;241m=\u001b[39m ClassifierTags()\n",
      "\u001b[1;31mAttributeError\u001b[0m: 'super' object has no attribute '__sklearn_tags__'"
     ]
    }
   ],
   "source": [
    "from sklearn.model_selection import cross_val_score\n",
    "from sklearn.model_selection import StratifiedKFold\n",
    "\n",
    "# Cross-validation with StratifiedKFold\n",
    "cv = StratifiedKFold(n_splits=5, shuffle=True, random_state=42)\n",
    "scores = cross_val_score(xgb_model, X_train_trend, y_train_trend, cv=cv, scoring='accuracy')\n",
    "\n",
    "print(f\"Cross-validation accuracy: {scores.mean()} ± {scores.std()}\")\n"
   ]
  },
  {
   "cell_type": "code",
   "execution_count": null,
   "id": "4278cf3c-22a0-4ce8-b65f-603b1e39c420",
   "metadata": {},
   "outputs": [],
   "source": []
  }
 ],
 "metadata": {
  "kernelspec": {
   "display_name": "Python 3 (ipykernel)",
   "language": "python",
   "name": "python3"
  },
  "language_info": {
   "codemirror_mode": {
    "name": "ipython",
    "version": 3
   },
   "file_extension": ".py",
   "mimetype": "text/x-python",
   "name": "python",
   "nbconvert_exporter": "python",
   "pygments_lexer": "ipython3",
   "version": "3.12.8"
  }
 },
 "nbformat": 4,
 "nbformat_minor": 5
}
